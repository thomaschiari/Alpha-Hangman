{
 "cells": [
  {
   "cell_type": "markdown",
   "source": [
    "# Alpha Hangman\n",
    "\n",
    "Implementação de um jogador de forca, utilizando o conceito de Entropia para escolher a melhor letra a ser escolhida. O objetivo é que o jogador acerte a palavra com o menor número de tentativas possíveis, com até 5 vidas."
   ],
   "metadata": {
    "collapsed": false,
    "pycharm": {
     "name": "#%% md\n"
    }
   }
  },
  {
   "cell_type": "markdown",
   "source": [
    "O primeiro passo para a implementação do jogo será a criação de um agente. O agente será responsável por escolher a melhor letra a ser escolhida, baseado nas letras já escolhidas e nas palavras que ainda podem ser a palavra secreta. Para isso, será utilizado o conceito de Entropia, que é uma medida de incerteza de uma variável aleatória. A entropia é dada pela seguinte fórmula:\n",
    "$$\n",
    "H(X) = -\\sum_{i=1}^{n} p(x_i)log_2p(x_i)\n",
    "$$\n",
    "Onde $p(x_i)$ é a probabilidade de ocorrência do evento $x_i$."
   ],
   "metadata": {
    "collapsed": false,
    "pycharm": {
     "name": "#%% md\n"
    }
   }
  },
  {
   "cell_type": "markdown",
   "source": [
    "Vamos, inicialmente, definir um novo jogo utilizando a classe [JogoDeForca](JogoDeForca.py), obtendo, assim, uma nova palavra, sorteada aleatoriamente a partir de uma lista de palavras."
   ],
   "metadata": {
    "collapsed": false,
    "pycharm": {
     "name": "#%% md\n"
    }
   }
  },
  {
   "cell_type": "code",
   "execution_count": 1,
   "outputs": [
    {
     "data": {
      "text/plain": "7"
     },
     "execution_count": 1,
     "metadata": {},
     "output_type": "execute_result"
    }
   ],
   "source": [
    "from JogoDeForca import JogoDeForca\n",
    "\n",
    "jogo = JogoDeForca()\n",
    "jogo.novo_jogo()"
   ],
   "metadata": {
    "collapsed": false,
    "pycharm": {
     "name": "#%%\n"
    }
   }
  },
  {
   "cell_type": "code",
   "execution_count": 2,
   "outputs": [
    {
     "data": {
      "text/plain": "'patifes'"
     },
     "execution_count": 2,
     "metadata": {},
     "output_type": "execute_result"
    }
   ],
   "source": [
    "jogo.palavra"
   ],
   "metadata": {
    "collapsed": false,
    "pycharm": {
     "name": "#%%\n"
    }
   }
  },
  {
   "cell_type": "code",
   "execution_count": 3,
   "outputs": [
    {
     "data": {
      "text/plain": "7"
     },
     "execution_count": 3,
     "metadata": {},
     "output_type": "execute_result"
    }
   ],
   "source": [
    "tam = len(jogo.palavra)\n",
    "tam"
   ],
   "metadata": {
    "collapsed": false,
    "pycharm": {
     "name": "#%%\n"
    }
   }
  },
  {
   "cell_type": "code",
   "execution_count": 4,
   "outputs": [
    {
     "data": {
      "text/plain": "5"
     },
     "execution_count": 4,
     "metadata": {},
     "output_type": "execute_result"
    }
   ],
   "source": [
    "jogo.vidas"
   ],
   "metadata": {
    "collapsed": false,
    "pycharm": {
     "name": "#%%\n"
    }
   }
  },
  {
   "cell_type": "markdown",
   "source": [
    "Acima, temos definidos os parâmetros iniciais do jogo, como a palavra sorteada, número de vidas e quantidade de letras. Em seguida, vamos implementar nosso agente, disponível na classe [Agent](Agent.py). O agente é inicializado com uma lista de letras que não fazem parte da resposta, uma lista com letras que fazem parte da resposta e o tamanho da palavra selecionada."
   ],
   "metadata": {
    "collapsed": false,
    "pycharm": {
     "name": "#%% md\n"
    }
   }
  },
  {
   "cell_type": "code",
   "execution_count": 5,
   "outputs": [],
   "source": [
    "from Agent import Agent\n",
    "\n",
    "agent = Agent([], [], tam)"
   ],
   "metadata": {
    "collapsed": false,
    "pycharm": {
     "name": "#%%\n"
    }
   }
  },
  {
   "cell_type": "markdown",
   "source": [
    "Agora, vamos iniciar o loop principal do jogo. aqui, enquanto o número de vidas for maior que zero, o agente escolherá uma letra, que será inserida na classe do jogo como uma nova tentativa. Após isso, o agente receberá o feedback do jogo, atualizando as listas de letras de sua inicialização. O jogo terminará quando o número de vidas for igual a zero, ou quando o agente tentar uma palavra completa que é igual à palavra definida no jogo."
   ],
   "metadata": {
    "collapsed": false,
    "pycharm": {
     "name": "#%% md\n"
    }
   }
  },
  {
   "cell_type": "code",
   "execution_count": 6,
   "outputs": [
    {
     "name": "stdout",
     "output_type": "stream",
     "text": [
      "O agente escolheu a letra a. \n",
      "\n",
      "O feedback recebido pelo jogo foi [1]. \n",
      "\n",
      "Lista atualizada de letras que não fazem parte da resposta: [].\n",
      "Lista atualizada de letras que fazem parte da resposta: ['a']. \n",
      "\n",
      "Palara: \n",
      " ['_', 'a', '_', '_', '_', '_', '_']\n",
      "Vidas restantes: 5. \n",
      "\n",
      "O agente escolheu a letra s. \n",
      "\n",
      "O feedback recebido pelo jogo foi [6]. \n",
      "\n",
      "Lista atualizada de letras que não fazem parte da resposta: [].\n",
      "Lista atualizada de letras que fazem parte da resposta: ['a', 's']. \n",
      "\n",
      "Palara: \n",
      " ['_', 'a', '_', '_', '_', '_', 's']\n",
      "Vidas restantes: 5. \n",
      "\n",
      "O agente escolheu a letra e. \n",
      "\n",
      "O feedback recebido pelo jogo foi [5]. \n",
      "\n",
      "Lista atualizada de letras que não fazem parte da resposta: [].\n",
      "Lista atualizada de letras que fazem parte da resposta: ['a', 's', 'e']. \n",
      "\n",
      "Palara: \n",
      " ['_', 'a', '_', '_', '_', 'e', 's']\n",
      "Vidas restantes: 5. \n",
      "\n",
      "O agente escolheu a letra r. \n",
      "\n",
      "O feedback recebido pelo jogo foi []. \n",
      "\n",
      "Lista atualizada de letras que não fazem parte da resposta: ['r'].\n",
      "Lista atualizada de letras que fazem parte da resposta: ['a', 's', 'e']. \n",
      "\n",
      "Palara: \n",
      " ['_', 'a', '_', '_', '_', 'e', 's']\n",
      "Vidas restantes: 4. \n",
      "\n",
      "O agente escolheu a letra c. \n",
      "\n",
      "O feedback recebido pelo jogo foi []. \n",
      "\n",
      "Lista atualizada de letras que não fazem parte da resposta: ['r', 'c'].\n",
      "Lista atualizada de letras que fazem parte da resposta: ['a', 's', 'e']. \n",
      "\n",
      "Palara: \n",
      " ['_', 'a', '_', '_', '_', 'e', 's']\n",
      "Vidas restantes: 3. \n",
      "\n",
      "O agente escolheu a letra i. \n",
      "\n",
      "O feedback recebido pelo jogo foi [3]. \n",
      "\n",
      "Lista atualizada de letras que não fazem parte da resposta: ['r', 'c'].\n",
      "Lista atualizada de letras que fazem parte da resposta: ['a', 's', 'e', 'i']. \n",
      "\n",
      "Palara: \n",
      " ['_', 'a', '_', 'i', '_', 'e', 's']\n",
      "Vidas restantes: 3. \n",
      "\n",
      "O agente escolheu a letra l. \n",
      "\n",
      "O feedback recebido pelo jogo foi []. \n",
      "\n",
      "Lista atualizada de letras que não fazem parte da resposta: ['r', 'c', 'l'].\n",
      "Lista atualizada de letras que fazem parte da resposta: ['a', 's', 'e', 'i']. \n",
      "\n",
      "Palara: \n",
      " ['_', 'a', '_', 'i', '_', 'e', 's']\n",
      "Vidas restantes: 2. \n",
      "\n",
      "O agente escolheu a letra t. \n",
      "\n",
      "O feedback recebido pelo jogo foi [2]. \n",
      "\n",
      "Lista atualizada de letras que não fazem parte da resposta: ['r', 'c', 'l'].\n",
      "Lista atualizada de letras que fazem parte da resposta: ['a', 's', 'e', 'i', 't']. \n",
      "\n",
      "Palara: \n",
      " ['_', 'a', 't', 'i', '_', 'e', 's']\n",
      "Vidas restantes: 2. \n",
      "\n",
      "O agente escolheu a letra z. \n",
      "\n",
      "O feedback recebido pelo jogo foi []. \n",
      "\n",
      "Lista atualizada de letras que não fazem parte da resposta: ['r', 'c', 'l', 'z'].\n",
      "Lista atualizada de letras que fazem parte da resposta: ['a', 's', 'e', 'i', 't']. \n",
      "\n",
      "Palara: \n",
      " ['_', 'a', 't', 'i', '_', 'e', 's']\n",
      "Vidas restantes: 1. \n",
      "\n",
      "O agente escolheu a letra p. \n",
      "\n",
      "O feedback recebido pelo jogo foi [0]. \n",
      "\n",
      "Lista atualizada de letras que não fazem parte da resposta: ['r', 'c', 'l', 'z'].\n",
      "Lista atualizada de letras que fazem parte da resposta: ['a', 's', 'e', 'i', 't', 'p']. \n",
      "\n",
      "Palara: \n",
      " ['p', 'a', 't', 'i', '_', 'e', 's']\n",
      "Vidas restantes: 1. \n",
      "\n",
      "O agente escolheu a letra f. \n",
      "\n",
      "O feedback recebido pelo jogo foi [4]. \n",
      "\n",
      "Lista atualizada de letras que não fazem parte da resposta: ['r', 'c', 'l', 'z'].\n",
      "Lista atualizada de letras que fazem parte da resposta: ['a', 's', 'e', 'i', 't', 'p', 'f']. \n",
      "\n",
      "Palara: \n",
      " ['p', 'a', 't', 'i', 'f', 'e', 's']\n",
      "O agente acertou a palavra!\n"
     ]
    }
   ],
   "source": [
    "while jogo.vidas > 0:\n",
    "    letra = agent.escolher_letra()\n",
    "    print(f'O agente escolheu a letra {letra}. \\n')\n",
    "\n",
    "    feedback = jogo.tentar_letra(letra)\n",
    "    print(f'O feedback recebido pelo jogo foi {feedback}. \\n')\n",
    "\n",
    "    agent.receber_feedback(letra, feedback)\n",
    "\n",
    "    print(f'Lista atualizada de letras que não fazem parte da resposta: {agent.letras_nao}.')\n",
    "    print(f'Lista atualizada de letras que fazem parte da resposta: {agent.letras_sim}. \\n')\n",
    "    print(f'Palara: \\n {agent.palavra}')\n",
    "\n",
    "    if agent.palavra_completa() == jogo.palavra:\n",
    "        print('O agente acertou a palavra!')\n",
    "        break\n",
    "\n",
    "    print(f'Vidas restantes: {jogo.vidas}. \\n')"
   ],
   "metadata": {
    "collapsed": false,
    "pycharm": {
     "name": "#%%\n"
    }
   }
  },
  {
   "cell_type": "markdown",
   "source": [
    "### Como o agente escolhe a letra?\n",
    "\n",
    "O primeiro passo na escolha de letras pelo agente é elaborar uma lista de palavras. Portanto, o agente irá utilizar um arquivo com um grande número de palavras da língua portuguesa, irá lê-lo e salvá-lo em uma lista. Em seguida, o agente irá filtrar essa lista para ficar apenas com palavras que possuem um mesmo tamanho da palavra sorteada.\n",
    "\n",
    "Após isso, o agente realizará outro filtro, retirando da lista de palavras todas aquelas que possuem letras que não estão presentes na palavra sorteada e, por fim, um último filtro, que deixará a lista apenas com as palavras que possuem letras nas mesmas posições que as já descobertas pelo agente (inicialmente zero).\n",
    "\n",
    "O próximo passo executado pelo agente é calcular a frequência de letras restantes na lista de palavras. Na jogada inicial, isso é feito com todas as letras presentes, porém conforme o jogo progride o agente irá filtrando cada vez mais. A frequência é calculada da seguinte forma:\n",
    "\n",
    "\n",
    "```python\n",
    "frequencia_letras = dict()\n",
    "for word in word_list:\n",
    "    for letter in word:\n",
    "        if letter in frequencia_letras:\n",
    "            frequencia_letras[letter] += 1\n",
    "        else:\n",
    "            frequencia_letras[letter] = 1\n",
    "```\n",
    "\n",
    "Com a frequência salva, o agente irá ordenar o dicionário obtido, obtendo, assim, as letras que ocorrem com maior frequência na lista. Essa, portanto, será a próxima letra escolhida pelo agente. Como a letra com mais ocorrências na língua portuguesa é a letra 'a', a primeira letra escolhida pelo agente será sempre essa.\n",
    "\n",
    "No início do jogo, a entropia do sistema é alta, visto que não há informações sobre a palavra, com exceção de seu tamanho. Assim, à medida que os feedbacks são recebidos, o agente irá atualizar a lista de palavras, reduzindo a sua incerteza sobre a palavra e, portanto, reduzindo a entropia. Portanto, o agente tenta minimizar a entropia escolhendo a letra que aparece com mais frequência na lista de palavras, esperando que tal letra seja a mais provável de estar na palavra desconhecida sorteada. Tal abordagem é conhecida como [Princípio de Máxima Entropia](https://en.wikipedia.org/wiki/Maximum_entropy_probability_distribution).\n",
    "\n",
    "Seu fundamento básico é de que não sabemos nada sobre o sistema, assumindo que é o mais desordenado possível (no caso, sabemos apenas o tamanho da palavra, inicialmente).Assim, toda as configurações são equiprováveis, até aplicarmos uma série de restrições, no caso representadas pelos filtros, que determinarão um peso para a distribuição de probabilidades.\n",
    "\n",
    "O agente elaborado possui um segundo método para escolher uma letra, chamado `escolher_letra_entropia`. Nesse método, o agente irá calcular, além da frequência, a entropia das letras presentes na lista de palavras, utilizando a fórmula anteriormente apresentada. Assim, podemos verificar qual é a entropia da letra escolhida pelo agente com base na frequência, comparando-a com a entropia das demais letras.\n",
    "\n",
    "Para testarmos isso, utilizaremos uma palavra pré-selecionada, evitando a aleatoriedade gerada pela implementação do jogo. Utilizaremos a palavra `hipopotamos` para esse teste."
   ],
   "metadata": {
    "collapsed": false,
    "pycharm": {
     "name": "#%% md\n"
    }
   }
  },
  {
   "cell_type": "code",
   "execution_count": 7,
   "outputs": [
    {
     "data": {
      "text/plain": "11"
     },
     "execution_count": 7,
     "metadata": {},
     "output_type": "execute_result"
    }
   ],
   "source": [
    "palavra = 'hipopotamos'\n",
    "jogo = JogoDeForca(palavra)\n",
    "jogo.novo_jogo()"
   ],
   "metadata": {
    "collapsed": false,
    "pycharm": {
     "name": "#%%\n"
    }
   }
  },
  {
   "cell_type": "code",
   "execution_count": 8,
   "outputs": [],
   "source": [
    "tamanho = len(jogo.palavra)\n",
    "agent = Agent([], [], tamanho)"
   ],
   "metadata": {
    "collapsed": false,
    "pycharm": {
     "name": "#%%\n"
    }
   }
  },
  {
   "cell_type": "code",
   "execution_count": 9,
   "outputs": [
    {
     "name": "stdout",
     "output_type": "stream",
     "text": [
      "Entropia de cada letra: {'a': 0.40595249269048833, 'e': 0.36777144985342136, 's': 0.35030834268497546, 'r': 0.329458407029869, 'i': 0.30943276881585724, 'o': 0.26871986503414746, 'm': 0.22569753817681396, 'n': 0.20007344372025201, 't': 0.195080995947707, 'c': 0.19066841641152005, 'd': 0.1619321833250531, 'l': 0.1329377224477419, 'u': 0.13122431672408955, 'p': 0.12038083439035369, 'v': 0.10428309454572482, 'g': 0.08290302198499622, 'b': 0.07555957297569942, 'f': 0.07478729930041504, 'h': 0.05520277729236828, 'z': 0.04955706521606116, 'q': 0.03039711491259154, 'j': 0.025698390639855576, 'x': 0.024440288582648725, 'w': 0.00017145824024704926, 'A': 0.00013181668830766356, 'E': 0.00013181668830766356, 'k': 0.00013181668830766356, 'D': 4.804161535271282e-05, 'G': 4.804161535271282e-05, 'M': 4.804161535271282e-05, 'P': 4.804161535271282e-05}\n"
     ]
    }
   ],
   "source": [
    "letra = agent.escolher_letra_entropia()"
   ],
   "metadata": {
    "collapsed": false,
    "pycharm": {
     "name": "#%%\n"
    }
   }
  },
  {
   "cell_type": "code",
   "execution_count": 10,
   "outputs": [
    {
     "data": {
      "text/plain": "'a'"
     },
     "execution_count": 10,
     "metadata": {},
     "output_type": "execute_result"
    }
   ],
   "source": [
    "letra"
   ],
   "metadata": {
    "collapsed": false,
    "pycharm": {
     "name": "#%%\n"
    }
   }
  },
  {
   "cell_type": "markdown",
   "source": [
    "Como podemos ver, a letra escolhida pelo agente foi a letra 'a' que, entre as palavras filtradas pelo agente, possui a maior frequência e, portanto, a maior probabilidade de estar presente na palavra selecionada. Ademais, podemos verificar a entropia da letra escolhida pelo agente e a entropia das demais letras.\n",
    "\n",
    "Como pode ser visto, a entropia da letra 'a' é maior que a das demais apresentadas. Nesse caso, com poucas informações, a letra 'a' foi escolhida primeiro e apresenta a maior entropia pois é a mais incerta dentro da lista de palavras; ou seja, a presença de 'a' em uma palavra não irá reduzir significativamente a incerteza sobre a palavra correta, visto que é a letra mais comum. Assim, a letra mais frequente é a que possui a maior entropia, pois é a que possui a maior incerteza.\n",
    "\n",
    "Vamos, agora, seguir com a execução do jogo. Agora, haverá uma pausa de 5 segundos entre cada jogada, para que possamos acompanhar o jogo, a entropia de cada letra e a escolha do agente."
   ],
   "metadata": {
    "collapsed": false,
    "pycharm": {
     "name": "#%% md\n"
    }
   }
  },
  {
   "cell_type": "code",
   "execution_count": 11,
   "outputs": [
    {
     "name": "stdout",
     "output_type": "stream",
     "text": [
      "Lista atualizada de letras que não fazem parte da resposta: [].\n",
      "Lista atualizada de letras que fazem parte da resposta: ['a']. \n",
      "\n",
      "Palara: \n",
      " ['_', '_', '_', '_', '_', '_', '_', 'a', '_', '_', '_']\n"
     ]
    }
   ],
   "source": [
    "feedback = jogo.tentar_letra(letra)\n",
    "agent.receber_feedback(letra, feedback)\n",
    "print(f'Lista atualizada de letras que não fazem parte da resposta: {agent.letras_nao}.')\n",
    "print(f'Lista atualizada de letras que fazem parte da resposta: {agent.letras_sim}. \\n')\n",
    "print(f'Palara: \\n {agent.palavra}')"
   ],
   "metadata": {
    "collapsed": false,
    "pycharm": {
     "name": "#%%\n"
    }
   }
  },
  {
   "cell_type": "code",
   "execution_count": 12,
   "outputs": [
    {
     "name": "stdout",
     "output_type": "stream",
     "text": [
      "Entropia de cada letra: {'a': 0.45941693669611056, 'r': 0.3365384751169207, 'e': 0.31617216097848383, 's': 0.3119951714025297, 'o': 0.2816430347488699, 'i': 0.2722015999485077, 'm': 0.24039285478911995, 'n': 0.20166377226501542, 'c': 0.18843934642365673, 't': 0.18779524639284176, 'd': 0.16009019521914694, 'l': 0.13892256523558494, 'v': 0.12998037135919718, 'p': 0.11976294585216389, 'u': 0.11571281988396569, 'g': 0.0847373060848243, 'f': 0.07405727028184829, 'b': 0.07323618578449037, 'h': 0.06318358043207843, 'z': 0.05913145411752006, 'q': 0.0278961395078749, 'j': 0.027102339134841672, 'x': 0.022148888597820996, 'w': 0.00024919974956014515, 'k': 0.00024919974956014515, 'A': 0.000132403230222913}\n",
      "O agente escolheu a letra r. \n",
      "\n",
      "Palara: \n",
      " ['_', '_', '_', '_', '_', '_', '_', 'a', '_', '_', '_']\n",
      "Vidas restantes: 4. \n",
      "\n",
      "Entropia de cada letra: {'a': 0.46105837226478597, 's': 0.36025216900525936, 'e': 0.2941178360595958, 'o': 0.2907560888712897, 'i': 0.27329203262957236, 'n': 0.25156558786929767, 'm': 0.2373991506199123, 'c': 0.22052485856411647, 't': 0.2167475303431232, 'd': 0.2111908539041552, 'v': 0.19427776103416974, 'l': 0.175028119561617, 'u': 0.11763057448032703, 'p': 0.11137996857333345, 'f': 0.07716754199085837, 'h': 0.07544529991461434, 'b': 0.07213170107032972, 'z': 0.06786432939478841, 'g': 0.0653301939587073, 'q': 0.030528661476824117, 'j': 0.027971664049668228, 'x': 0.015422032533957596}\n",
      "O agente escolheu a letra s. \n",
      "\n",
      "Palara: \n",
      " ['_', '_', '_', '_', '_', '_', '_', 'a', '_', '_', 's']\n",
      "Vidas restantes: 4. \n",
      "\n",
      "Entropia de cada letra: {'a': 0.46781566312145395, 's': 0.3803897326188445, 'o': 0.32122422032103226, 'm': 0.26955803738985057, 'i': 0.26428925844046874, 'e': 0.2471774723433938, 'v': 0.22250602825466456, 'd': 0.2185582142565296, 'n': 0.21723012653173113, 'c': 0.20059333122292108, 't': 0.18077783455692073, 'l': 0.16953959137046756, 'u': 0.12119849309058463, 'p': 0.110463926308489, 'b': 0.07361043112465228, 'f': 0.07327784795966694, 'h': 0.07127048424694428, 'g': 0.061613321240598866, 'z': 0.055855137570066535, 'q': 0.029977654991850636, 'j': 0.028205042591759325, 'x': 0.01785071390254228}\n",
      "O agente escolheu a letra o. \n",
      "\n",
      "Palara: \n",
      " ['_', '_', '_', 'o', '_', 'o', '_', 'a', '_', 'o', 's']\n",
      "Vidas restantes: 4. \n",
      "\n",
      "Entropia de cada letra: {'o': 0.5219594013548761, 'm': 0.36901746901314586, 's': 0.34332233910766585, 'a': 0.3144937835124816, 'i': 0.24511479511263354, 'd': 0.24511479511263354, 'l': 0.20270143721078623, 'h': 0.20270143721078623, 'f': 0.1528604278593471, 'p': 0.1528604278593471, 'g': 0.1528604278593471, 'n': 0.1528604278593471, 'c': 0.1528604278593471, 't': 0.0915817290811887}\n",
      "O agente escolheu a letra m. \n",
      "\n",
      "Palara: \n",
      " ['_', '_', '_', 'o', '_', 'o', '_', 'a', 'm', 'o', 's']\n",
      "Vidas restantes: 4. \n",
      "\n",
      "Entropia de cada letra: {'o': 0.5197021524193334, 'm': 0.39197306153401923, 's': 0.3565344913352199, 'a': 0.3144937835124816, 'i': 0.2641683489488278, 'f': 0.20270143721078623, 'l': 0.20270143721078623, 'h': 0.20270143721078623, 'p': 0.20270143721078623, 't': 0.12407799133266585, 'g': 0.12407799133266585, 'n': 0.12407799133266585, 'c': 0.12407799133266585, 'd': 0.12407799133266585}\n",
      "O agente escolheu a letra i. \n",
      "\n",
      "Palara: \n",
      " ['_', 'i', '_', 'o', '_', 'o', '_', 'a', 'm', 'o', 's']\n",
      "Vidas restantes: 4. \n",
      "\n",
      "Entropia de cada letra: {'o': 0.5112188503407658, 's': 0.39197306153401923, 'f': 0.3144937835124816, 'i': 0.3144937835124816, 'a': 0.3144937835124816, 'm': 0.3144937835124816, 'p': 0.3144937835124816, 'l': 0.20270143721078623, 'h': 0.20270143721078623, 't': 0.20270143721078623}\n",
      "O agente escolheu a letra f. \n",
      "\n",
      "Palara: \n",
      " ['_', 'i', '_', 'o', '_', 'o', '_', 'a', 'm', 'o', 's']\n",
      "Vidas restantes: 3. \n",
      "\n",
      "Entropia de cada letra: {'o': 0.5112188503407658, 'p': 0.44716938520678134, 'h': 0.3144937835124816, 'i': 0.3144937835124816, 't': 0.3144937835124816, 'a': 0.3144937835124816, 'm': 0.3144937835124816, 's': 0.3144937835124816}\n",
      "O agente escolheu a letra p. \n",
      "\n",
      "Palara: \n",
      " ['_', 'i', 'p', 'o', 'p', 'o', '_', 'a', 'm', 'o', 's']\n",
      "Vidas restantes: 3. \n",
      "\n",
      "Entropia de cada letra: {'o': 0.5112188503407658, 'p': 0.44716938520678134, 'h': 0.3144937835124816, 'i': 0.3144937835124816, 't': 0.3144937835124816, 'a': 0.3144937835124816, 'm': 0.3144937835124816, 's': 0.3144937835124816}\n",
      "O agente escolheu a letra h. \n",
      "\n",
      "Palara: \n",
      " ['h', 'i', 'p', 'o', 'p', 'o', '_', 'a', 'm', 'o', 's']\n",
      "Vidas restantes: 3. \n",
      "\n",
      "Entropia de cada letra: {'o': 0.5112188503407658, 'p': 0.44716938520678134, 'h': 0.3144937835124816, 'i': 0.3144937835124816, 't': 0.3144937835124816, 'a': 0.3144937835124816, 'm': 0.3144937835124816, 's': 0.3144937835124816}\n",
      "O agente escolheu a letra t. \n",
      "\n",
      "Palara: \n",
      " ['h', 'i', 'p', 'o', 'p', 'o', 't', 'a', 'm', 'o', 's']\n",
      "O agente acertou a palavra!\n"
     ]
    }
   ],
   "source": [
    "import time\n",
    "\n",
    "while jogo.vidas > 0:\n",
    "    letra = agent.escolher_letra_entropia()\n",
    "    print(f'O agente escolheu a letra {letra}. \\n')\n",
    "\n",
    "    time.sleep(5)\n",
    "\n",
    "    feedback = jogo.tentar_letra(letra)\n",
    "    agent.receber_feedback(letra, feedback)\n",
    "\n",
    "    print(f'Palara: \\n {agent.palavra}')\n",
    "\n",
    "    if agent.palavra_completa() == jogo.palavra:\n",
    "        print('O agente acertou a palavra!')\n",
    "        break\n",
    "\n",
    "    print(f'Vidas restantes: {jogo.vidas}. \\n')"
   ],
   "metadata": {
    "collapsed": false,
    "pycharm": {
     "name": "#%%\n"
    }
   }
  },
  {
   "cell_type": "markdown",
   "source": [
    "Como podemos observar, o agente escolheu a palavra corretamente. Analisando a entropia de cada letra escolhida pelo agente, é possível observar que ele sempre seleciona a letra que apresenta a maior entropia e que ainda não foi testada, provando o que foi dito anteriormente. Assim, o jogador irá sempre selecionar a letra com maior frequência, e que possui uma incerteza maior na lista de palavras, visto que é a palavra mais comum."
   ],
   "metadata": {
    "collapsed": false,
    "pycharm": {
     "name": "#%% md\n"
    }
   }
  },
  {
   "cell_type": "markdown",
   "source": [
    "### Testando o jogo em diversas iterações\n",
    "\n",
    "Em seguida, vamos testar o jogo em diversas iterações para verificar e analisar as situações em que o jogador consegue ou não acertar a palavra. Para isso, vamos iterar 1000 vezes, sempre com uma palavra aleatória selecionada pelo jogo. Não recomendamos que rode essa sessão do Notebook, pois pode demorar e afetar nossas análises devido ao fator de aleatoriedade na escolha das palavras."
   ],
   "metadata": {
    "collapsed": false,
    "pycharm": {
     "name": "#%% md\n"
    }
   }
  },
  {
   "cell_type": "code",
   "execution_count": 14,
   "outputs": [],
   "source": [
    "perdeu = 0\n",
    "lista_perdeu = list()\n",
    "\n",
    "ganhou = 0\n",
    "lista_ganhou = list()"
   ],
   "metadata": {
    "collapsed": false,
    "pycharm": {
     "name": "#%%\n"
    }
   }
  },
  {
   "cell_type": "code",
   "execution_count": 15,
   "outputs": [
    {
     "name": "stderr",
     "output_type": "stream",
     "text": [
      "  0%|          | 3/1000 [00:02<14:14,  1.17it/s]"
     ]
    },
    {
     "name": "stdout",
     "output_type": "stream",
     "text": [
      "Fim de jogo!\n"
     ]
    },
    {
     "name": "stderr",
     "output_type": "stream",
     "text": [
      "  0%|          | 4/1000 [00:03<15:52,  1.05it/s]"
     ]
    },
    {
     "name": "stdout",
     "output_type": "stream",
     "text": [
      "Fim de jogo!\n"
     ]
    },
    {
     "name": "stderr",
     "output_type": "stream",
     "text": [
      "  1%|▏         | 14/1000 [00:12<15:44,  1.04it/s]"
     ]
    },
    {
     "name": "stdout",
     "output_type": "stream",
     "text": [
      "Fim de jogo!\n"
     ]
    },
    {
     "name": "stderr",
     "output_type": "stream",
     "text": [
      "  3%|▎         | 27/1000 [00:25<15:26,  1.05it/s]"
     ]
    },
    {
     "name": "stdout",
     "output_type": "stream",
     "text": [
      "Fim de jogo!\n"
     ]
    },
    {
     "name": "stderr",
     "output_type": "stream",
     "text": [
      "  3%|▎         | 32/1000 [00:30<16:00,  1.01it/s]"
     ]
    },
    {
     "name": "stdout",
     "output_type": "stream",
     "text": [
      "Fim de jogo!\n"
     ]
    },
    {
     "name": "stderr",
     "output_type": "stream",
     "text": [
      "  5%|▍         | 48/1000 [00:47<13:21,  1.19it/s]"
     ]
    },
    {
     "name": "stdout",
     "output_type": "stream",
     "text": [
      "Fim de jogo!\n"
     ]
    },
    {
     "name": "stderr",
     "output_type": "stream",
     "text": [
      "  5%|▌         | 52/1000 [00:51<15:17,  1.03it/s]"
     ]
    },
    {
     "name": "stdout",
     "output_type": "stream",
     "text": [
      "Fim de jogo!\n"
     ]
    },
    {
     "name": "stderr",
     "output_type": "stream",
     "text": [
      "  8%|▊         | 79/1000 [01:17<13:05,  1.17it/s]"
     ]
    },
    {
     "name": "stdout",
     "output_type": "stream",
     "text": [
      "Fim de jogo!\n"
     ]
    },
    {
     "name": "stderr",
     "output_type": "stream",
     "text": [
      "  9%|▉         | 90/1000 [01:28<15:27,  1.02s/it]"
     ]
    },
    {
     "name": "stdout",
     "output_type": "stream",
     "text": [
      "Fim de jogo!\n"
     ]
    },
    {
     "name": "stderr",
     "output_type": "stream",
     "text": [
      "  9%|▉         | 94/1000 [01:31<14:19,  1.05it/s]"
     ]
    },
    {
     "name": "stdout",
     "output_type": "stream",
     "text": [
      "Fim de jogo!\n"
     ]
    },
    {
     "name": "stderr",
     "output_type": "stream",
     "text": [
      " 10%|█         | 105/1000 [01:43<16:10,  1.08s/it]"
     ]
    },
    {
     "name": "stdout",
     "output_type": "stream",
     "text": [
      "Fim de jogo!\n"
     ]
    },
    {
     "name": "stderr",
     "output_type": "stream",
     "text": [
      " 11%|█         | 106/1000 [01:44<15:10,  1.02s/it]"
     ]
    },
    {
     "name": "stdout",
     "output_type": "stream",
     "text": [
      "Fim de jogo!\n"
     ]
    },
    {
     "name": "stderr",
     "output_type": "stream",
     "text": [
      " 11%|█         | 110/1000 [01:47<13:21,  1.11it/s]"
     ]
    },
    {
     "name": "stdout",
     "output_type": "stream",
     "text": [
      "Fim de jogo!\n"
     ]
    },
    {
     "name": "stderr",
     "output_type": "stream",
     "text": [
      " 13%|█▎        | 128/1000 [02:04<12:49,  1.13it/s]"
     ]
    },
    {
     "name": "stdout",
     "output_type": "stream",
     "text": [
      "Fim de jogo!\n"
     ]
    },
    {
     "name": "stderr",
     "output_type": "stream",
     "text": [
      " 14%|█▍        | 141/1000 [02:16<12:16,  1.17it/s]"
     ]
    },
    {
     "name": "stdout",
     "output_type": "stream",
     "text": [
      "Fim de jogo!\n"
     ]
    },
    {
     "name": "stderr",
     "output_type": "stream",
     "text": [
      " 15%|█▌        | 152/1000 [02:25<12:13,  1.16it/s]"
     ]
    },
    {
     "name": "stdout",
     "output_type": "stream",
     "text": [
      "Fim de jogo!\n"
     ]
    },
    {
     "name": "stderr",
     "output_type": "stream",
     "text": [
      " 16%|█▌        | 155/1000 [02:28<12:49,  1.10it/s]"
     ]
    },
    {
     "name": "stdout",
     "output_type": "stream",
     "text": [
      "Fim de jogo!\n"
     ]
    },
    {
     "name": "stderr",
     "output_type": "stream",
     "text": [
      " 16%|█▋        | 165/1000 [02:37<13:25,  1.04it/s]"
     ]
    },
    {
     "name": "stdout",
     "output_type": "stream",
     "text": [
      "Fim de jogo!\n"
     ]
    },
    {
     "name": "stderr",
     "output_type": "stream",
     "text": [
      " 20%|██        | 202/1000 [03:11<11:04,  1.20it/s]"
     ]
    },
    {
     "name": "stdout",
     "output_type": "stream",
     "text": [
      "Fim de jogo!\n"
     ]
    },
    {
     "name": "stderr",
     "output_type": "stream",
     "text": [
      " 22%|██▏       | 216/1000 [03:23<11:36,  1.12it/s]"
     ]
    },
    {
     "name": "stdout",
     "output_type": "stream",
     "text": [
      "Fim de jogo!\n"
     ]
    },
    {
     "name": "stderr",
     "output_type": "stream",
     "text": [
      " 23%|██▎       | 229/1000 [03:35<11:32,  1.11it/s]"
     ]
    },
    {
     "name": "stdout",
     "output_type": "stream",
     "text": [
      "Fim de jogo!\n"
     ]
    },
    {
     "name": "stderr",
     "output_type": "stream",
     "text": [
      " 23%|██▎       | 231/1000 [03:37<11:44,  1.09it/s]"
     ]
    },
    {
     "name": "stdout",
     "output_type": "stream",
     "text": [
      "Fim de jogo!\n"
     ]
    },
    {
     "name": "stderr",
     "output_type": "stream",
     "text": [
      " 29%|██▉       | 290/1000 [04:30<10:40,  1.11it/s]"
     ]
    },
    {
     "name": "stdout",
     "output_type": "stream",
     "text": [
      "Fim de jogo!\n"
     ]
    },
    {
     "name": "stderr",
     "output_type": "stream",
     "text": [
      " 30%|███       | 300/1000 [04:40<11:43,  1.00s/it]"
     ]
    },
    {
     "name": "stdout",
     "output_type": "stream",
     "text": [
      "Fim de jogo!\n"
     ]
    },
    {
     "name": "stderr",
     "output_type": "stream",
     "text": [
      " 32%|███▏      | 315/1000 [04:54<11:22,  1.00it/s]"
     ]
    },
    {
     "name": "stdout",
     "output_type": "stream",
     "text": [
      "Fim de jogo!\n"
     ]
    },
    {
     "name": "stderr",
     "output_type": "stream",
     "text": [
      " 34%|███▍      | 340/1000 [05:17<11:02,  1.00s/it]"
     ]
    },
    {
     "name": "stdout",
     "output_type": "stream",
     "text": [
      "Fim de jogo!\n"
     ]
    },
    {
     "name": "stderr",
     "output_type": "stream",
     "text": [
      " 34%|███▍      | 345/1000 [05:22<10:37,  1.03it/s]"
     ]
    },
    {
     "name": "stdout",
     "output_type": "stream",
     "text": [
      "Fim de jogo!\n"
     ]
    },
    {
     "name": "stderr",
     "output_type": "stream",
     "text": [
      " 35%|███▌      | 350/1000 [05:28<11:24,  1.05s/it]"
     ]
    },
    {
     "name": "stdout",
     "output_type": "stream",
     "text": [
      "Fim de jogo!\n"
     ]
    },
    {
     "name": "stderr",
     "output_type": "stream",
     "text": [
      " 38%|███▊      | 380/1000 [05:56<09:54,  1.04it/s]"
     ]
    },
    {
     "name": "stdout",
     "output_type": "stream",
     "text": [
      "Fim de jogo!\n"
     ]
    },
    {
     "name": "stderr",
     "output_type": "stream",
     "text": [
      " 42%|████▏     | 415/1000 [06:36<12:01,  1.23s/it]"
     ]
    },
    {
     "name": "stdout",
     "output_type": "stream",
     "text": [
      "Fim de jogo!\n"
     ]
    },
    {
     "name": "stderr",
     "output_type": "stream",
     "text": [
      " 42%|████▏     | 416/1000 [06:37<12:22,  1.27s/it]"
     ]
    },
    {
     "name": "stdout",
     "output_type": "stream",
     "text": [
      "Fim de jogo!\n"
     ]
    },
    {
     "name": "stderr",
     "output_type": "stream",
     "text": [
      " 43%|████▎     | 427/1000 [06:47<08:38,  1.11it/s]"
     ]
    },
    {
     "name": "stdout",
     "output_type": "stream",
     "text": [
      "Fim de jogo!\n"
     ]
    },
    {
     "name": "stderr",
     "output_type": "stream",
     "text": [
      " 43%|████▎     | 433/1000 [06:53<07:55,  1.19it/s]"
     ]
    },
    {
     "name": "stdout",
     "output_type": "stream",
     "text": [
      "Fim de jogo!\n"
     ]
    },
    {
     "name": "stderr",
     "output_type": "stream",
     "text": [
      " 48%|████▊     | 477/1000 [07:34<07:46,  1.12it/s]"
     ]
    },
    {
     "name": "stdout",
     "output_type": "stream",
     "text": [
      "Fim de jogo!\n"
     ]
    },
    {
     "name": "stderr",
     "output_type": "stream",
     "text": [
      " 50%|█████     | 504/1000 [08:00<08:20,  1.01s/it]"
     ]
    },
    {
     "name": "stdout",
     "output_type": "stream",
     "text": [
      "Fim de jogo!\n"
     ]
    },
    {
     "name": "stderr",
     "output_type": "stream",
     "text": [
      " 51%|█████     | 506/1000 [08:02<07:39,  1.07it/s]"
     ]
    },
    {
     "name": "stdout",
     "output_type": "stream",
     "text": [
      "Fim de jogo!\n"
     ]
    },
    {
     "name": "stderr",
     "output_type": "stream",
     "text": [
      " 52%|█████▏    | 518/1000 [08:14<09:05,  1.13s/it]"
     ]
    },
    {
     "name": "stdout",
     "output_type": "stream",
     "text": [
      "Fim de jogo!\n"
     ]
    },
    {
     "name": "stderr",
     "output_type": "stream",
     "text": [
      " 55%|█████▌    | 550/1000 [08:45<07:08,  1.05it/s]"
     ]
    },
    {
     "name": "stdout",
     "output_type": "stream",
     "text": [
      "Fim de jogo!\n"
     ]
    },
    {
     "name": "stderr",
     "output_type": "stream",
     "text": [
      " 60%|█████▉    | 597/1000 [09:30<06:21,  1.06it/s]"
     ]
    },
    {
     "name": "stdout",
     "output_type": "stream",
     "text": [
      "Fim de jogo!\n"
     ]
    },
    {
     "name": "stderr",
     "output_type": "stream",
     "text": [
      " 60%|██████    | 605/1000 [09:38<06:18,  1.04it/s]"
     ]
    },
    {
     "name": "stdout",
     "output_type": "stream",
     "text": [
      "Fim de jogo!\n"
     ]
    },
    {
     "name": "stderr",
     "output_type": "stream",
     "text": [
      " 61%|██████    | 609/1000 [09:42<06:44,  1.03s/it]"
     ]
    },
    {
     "name": "stdout",
     "output_type": "stream",
     "text": [
      "Fim de jogo!\n"
     ]
    },
    {
     "name": "stderr",
     "output_type": "stream",
     "text": [
      " 63%|██████▎   | 626/1000 [09:57<06:02,  1.03it/s]"
     ]
    },
    {
     "name": "stdout",
     "output_type": "stream",
     "text": [
      "Fim de jogo!\n"
     ]
    },
    {
     "name": "stderr",
     "output_type": "stream",
     "text": [
      " 63%|██████▎   | 631/1000 [10:03<07:13,  1.18s/it]"
     ]
    },
    {
     "name": "stdout",
     "output_type": "stream",
     "text": [
      "Fim de jogo!\n"
     ]
    },
    {
     "name": "stderr",
     "output_type": "stream",
     "text": [
      " 64%|██████▎   | 637/1000 [10:08<05:43,  1.06it/s]"
     ]
    },
    {
     "name": "stdout",
     "output_type": "stream",
     "text": [
      "Fim de jogo!\n"
     ]
    },
    {
     "name": "stderr",
     "output_type": "stream",
     "text": [
      " 64%|██████▍   | 638/1000 [10:09<05:44,  1.05it/s]"
     ]
    },
    {
     "name": "stdout",
     "output_type": "stream",
     "text": [
      "Fim de jogo!\n"
     ]
    },
    {
     "name": "stderr",
     "output_type": "stream",
     "text": [
      " 65%|██████▌   | 654/1000 [10:24<04:43,  1.22it/s]"
     ]
    },
    {
     "name": "stdout",
     "output_type": "stream",
     "text": [
      "Fim de jogo!\n"
     ]
    },
    {
     "name": "stderr",
     "output_type": "stream",
     "text": [
      " 66%|██████▌   | 662/1000 [10:31<04:52,  1.15it/s]"
     ]
    },
    {
     "name": "stdout",
     "output_type": "stream",
     "text": [
      "Fim de jogo!\n"
     ]
    },
    {
     "name": "stderr",
     "output_type": "stream",
     "text": [
      " 66%|██████▋   | 663/1000 [10:32<04:56,  1.14it/s]"
     ]
    },
    {
     "name": "stdout",
     "output_type": "stream",
     "text": [
      "Fim de jogo!\n"
     ]
    },
    {
     "name": "stderr",
     "output_type": "stream",
     "text": [
      " 67%|██████▋   | 674/1000 [10:43<05:23,  1.01it/s]"
     ]
    },
    {
     "name": "stdout",
     "output_type": "stream",
     "text": [
      "Fim de jogo!\n"
     ]
    },
    {
     "name": "stderr",
     "output_type": "stream",
     "text": [
      " 68%|██████▊   | 684/1000 [10:53<04:47,  1.10it/s]"
     ]
    },
    {
     "name": "stdout",
     "output_type": "stream",
     "text": [
      "Fim de jogo!\n"
     ]
    },
    {
     "name": "stderr",
     "output_type": "stream",
     "text": [
      " 69%|██████▉   | 691/1000 [11:00<05:00,  1.03it/s]"
     ]
    },
    {
     "name": "stdout",
     "output_type": "stream",
     "text": [
      "Fim de jogo!\n"
     ]
    },
    {
     "name": "stderr",
     "output_type": "stream",
     "text": [
      " 71%|███████   | 712/1000 [11:21<04:39,  1.03it/s]"
     ]
    },
    {
     "name": "stdout",
     "output_type": "stream",
     "text": [
      "Fim de jogo!\n"
     ]
    },
    {
     "name": "stderr",
     "output_type": "stream",
     "text": [
      " 75%|███████▍  | 748/1000 [11:54<03:49,  1.10it/s]"
     ]
    },
    {
     "name": "stdout",
     "output_type": "stream",
     "text": [
      "Fim de jogo!\n"
     ]
    },
    {
     "name": "stderr",
     "output_type": "stream",
     "text": [
      " 76%|███████▌  | 762/1000 [12:07<03:47,  1.04it/s]"
     ]
    },
    {
     "name": "stdout",
     "output_type": "stream",
     "text": [
      "Fim de jogo!\n"
     ]
    },
    {
     "name": "stderr",
     "output_type": "stream",
     "text": [
      " 77%|███████▋  | 769/1000 [12:14<03:54,  1.01s/it]"
     ]
    },
    {
     "name": "stdout",
     "output_type": "stream",
     "text": [
      "Fim de jogo!\n"
     ]
    },
    {
     "name": "stderr",
     "output_type": "stream",
     "text": [
      " 78%|███████▊  | 777/1000 [12:21<03:46,  1.02s/it]"
     ]
    },
    {
     "name": "stdout",
     "output_type": "stream",
     "text": [
      "Fim de jogo!\n"
     ]
    },
    {
     "name": "stderr",
     "output_type": "stream",
     "text": [
      " 78%|███████▊  | 780/1000 [12:25<03:50,  1.05s/it]"
     ]
    },
    {
     "name": "stdout",
     "output_type": "stream",
     "text": [
      "Fim de jogo!\n"
     ]
    },
    {
     "name": "stderr",
     "output_type": "stream",
     "text": [
      " 79%|███████▉  | 793/1000 [12:37<03:19,  1.04it/s]"
     ]
    },
    {
     "name": "stdout",
     "output_type": "stream",
     "text": [
      "Fim de jogo!\n"
     ]
    },
    {
     "name": "stderr",
     "output_type": "stream",
     "text": [
      " 83%|████████▎ | 830/1000 [13:15<02:51,  1.01s/it]"
     ]
    },
    {
     "name": "stdout",
     "output_type": "stream",
     "text": [
      "Fim de jogo!\n"
     ]
    },
    {
     "name": "stderr",
     "output_type": "stream",
     "text": [
      " 84%|████████▎ | 835/1000 [13:20<02:29,  1.10it/s]"
     ]
    },
    {
     "name": "stdout",
     "output_type": "stream",
     "text": [
      "Fim de jogo!\n"
     ]
    },
    {
     "name": "stderr",
     "output_type": "stream",
     "text": [
      " 84%|████████▍ | 843/1000 [13:28<02:42,  1.04s/it]"
     ]
    },
    {
     "name": "stdout",
     "output_type": "stream",
     "text": [
      "Fim de jogo!\n"
     ]
    },
    {
     "name": "stderr",
     "output_type": "stream",
     "text": [
      " 94%|█████████▍| 942/1000 [15:01<00:46,  1.24it/s]"
     ]
    },
    {
     "name": "stdout",
     "output_type": "stream",
     "text": [
      "Fim de jogo!\n"
     ]
    },
    {
     "name": "stderr",
     "output_type": "stream",
     "text": [
      " 96%|█████████▌| 959/1000 [15:17<00:39,  1.04it/s]"
     ]
    },
    {
     "name": "stdout",
     "output_type": "stream",
     "text": [
      "Fim de jogo!\n"
     ]
    },
    {
     "name": "stderr",
     "output_type": "stream",
     "text": [
      " 97%|█████████▋| 973/1000 [15:31<00:26,  1.00it/s]"
     ]
    },
    {
     "name": "stdout",
     "output_type": "stream",
     "text": [
      "Fim de jogo!\n"
     ]
    },
    {
     "name": "stderr",
     "output_type": "stream",
     "text": [
      "100%|█████████▉| 998/1000 [15:55<00:02,  1.13s/it]"
     ]
    },
    {
     "name": "stdout",
     "output_type": "stream",
     "text": [
      "Fim de jogo!\n"
     ]
    },
    {
     "name": "stderr",
     "output_type": "stream",
     "text": [
      "100%|██████████| 1000/1000 [15:57<00:00,  1.04it/s]"
     ]
    },
    {
     "name": "stdout",
     "output_type": "stream",
     "text": [
      "Ganhou: 935\n",
      "Perdeu: 65\n",
      "Porcentagem de vitoria: 0.935\n"
     ]
    },
    {
     "name": "stderr",
     "output_type": "stream",
     "text": [
      "\n"
     ]
    }
   ],
   "source": [
    "from tqdm import tqdm\n",
    "\n",
    "for _ in tqdm(range(1000)):\n",
    "    jogo = JogoDeForca()\n",
    "    jogo.novo_jogo()\n",
    "    tam = len(jogo.palavra)\n",
    "    agent = Agent([], [], tam)\n",
    "\n",
    "    while jogo.vidas > 0:\n",
    "        letra = agent.escolher_letra()\n",
    "        feedback = jogo.tentar_letra(letra)\n",
    "        agent.receber_feedback(letra, feedback)\n",
    "        if agent.palavra_completa() == jogo.palavra:\n",
    "            break\n",
    "\n",
    "    if jogo.vidas == 0:\n",
    "        perdeu += 1\n",
    "        lista_perdeu.append(jogo.palavra)\n",
    "    else:\n",
    "        ganhou += 1\n",
    "        lista_ganhou.append(jogo.palavra)\n",
    "\n",
    "print(f'Ganhou: {ganhou}')\n",
    "print(f'Perdeu: {perdeu}')\n",
    "print(f'Porcentagem de vitoria: {ganhou/(ganhou+perdeu)}')"
   ],
   "metadata": {
    "collapsed": false,
    "pycharm": {
     "name": "#%%\n"
    }
   }
  },
  {
   "cell_type": "code",
   "execution_count": 16,
   "outputs": [
    {
     "data": {
      "text/plain": "['topam',\n 'ciganas',\n 'pedras',\n 'tumultues',\n 'pomba',\n 'repenseis',\n 'jota',\n 'sazonaria',\n 'pequei',\n 'secunde',\n 'azeitando',\n 'capado',\n 'sapecado',\n 'fretou',\n 'defumai',\n 'lutarmo',\n 'sulcar',\n 'empoca',\n 'zurre',\n 'sufixemo',\n 'lei',\n 'trepadas',\n 'vetado',\n 'velhaco',\n 'grudavas',\n 'matizadas',\n 'punhamos',\n 'quebravam',\n 'esquivas',\n 'gumes',\n 'pilharmos',\n 'cruzai',\n 'capua',\n 'galgamo',\n 'rape',\n 'granulos',\n 'caguei',\n 'palhas',\n 'soro',\n 'gamo',\n 'ganhai',\n 'jaguar',\n 'vadearmos',\n 'fustigava',\n 'bitolou',\n 'pecavam',\n 'logrando',\n 'bicas',\n 'pulamos',\n 'afundam',\n 'foquemo',\n 'concedi',\n 'pipoco',\n 'pedir',\n 'roubam',\n 'segurado',\n 'gaiatos',\n 'cotejai',\n 'torrei',\n 'condoam',\n 'nutram',\n 'fiteis',\n 'queixasse',\n 'bocejares',\n 'chupassem']"
     },
     "execution_count": 16,
     "metadata": {},
     "output_type": "execute_result"
    }
   ],
   "source": [
    "lista_perdeu"
   ],
   "metadata": {
    "collapsed": false,
    "pycharm": {
     "name": "#%%\n"
    }
   }
  },
  {
   "cell_type": "code",
   "execution_count": 17,
   "outputs": [
    {
     "data": {
      "text/plain": "['tiritareis',\n 'atenuaramos',\n 'decepavam',\n 'seriassem',\n 'destrincham',\n 'cancelamento',\n 'amanteigado',\n 'rajara',\n 'lacra',\n 'radiografarao',\n 'ieis',\n 'habitavamos',\n 'discordamo',\n 'arriscamo',\n 'barricares',\n 'penhoramos',\n 'adulteremo',\n 'salivarmos',\n 'oscilavas',\n 'levitasses',\n 'cultivam',\n 'desvio',\n 'liberalizastes',\n 'refresquem',\n 'ciscaremos',\n 'foragireis',\n 'pronunciarmo',\n 'encerrarei',\n 'saturarao',\n 'emocionaste',\n 'editaveis',\n 'arrevesara',\n 'desmoralizara',\n 'acambarcasses',\n 'aleites',\n 'irrelevancias',\n 'antiquissimas',\n 'cressemos',\n 'arbitrariedades',\n 'concentrai',\n 'ajuntastes',\n 'mancaram',\n 'seguiremo',\n 'agruparei',\n 'chatear',\n 'infracao',\n 'pensava',\n 'revivesceriam',\n 'corrige',\n 'deificadas',\n 'cosmologica',\n 'depositaria',\n 'personalizados',\n 'haviam',\n 'secundario',\n 'barganharao',\n 'estrondea',\n 'jazessem',\n 'levitardes',\n 'inteprete',\n 'preguearao',\n 'requentaria',\n 'derrubarao',\n 'agarrara',\n 'auxiliarei',\n 'barateasse',\n 'executamos',\n 'entretei',\n 'doutrinai',\n 'sepultai',\n 'sindicalizava',\n 'coaxaramos',\n 'envenenaveis',\n 'peroba',\n 'jorramos',\n 'moderastes',\n 'vagaveis',\n 'simbolica',\n 'valvulas',\n 'atemorizariamos',\n 'encafifemos',\n 'cortico',\n 'interativos',\n 'enfronham',\n 'integralizasse',\n 'charlatanear',\n 'significassem',\n 'individualizar',\n 'subestimaram',\n 'cartazes',\n 'recortassem',\n 'expropriasse',\n 'aflijas',\n 'hesitar',\n 'reclassificasses',\n 'poupeis',\n 'susteremos',\n 'chacoteaveis',\n 'desbastaram',\n 'desmoronado',\n 'ambicionarei',\n 'empreitar',\n 'restringiste',\n 'tornaremos',\n 'reformulassem',\n 'firmemos',\n 'reboca',\n 'dedilhastes',\n 'pendurarmos',\n 'polinizardes',\n 'inseminavamos',\n 'sitiaremos',\n 'oscilador',\n 'remuneradas',\n 'abalancaremo',\n 'adjudicatorios',\n 'paroquianas',\n 'fruicao',\n 'deliciaremos',\n 'acene',\n 'fincarmos',\n 'desdenhamo',\n 'carimbem',\n 'parodiaras',\n 'bancaremo',\n 'drenando',\n 'masculinos',\n 'estrondeasse',\n 'comprazem',\n 'estipulam',\n 'trilharao',\n 'amainara',\n 'raros',\n 'tempesteassem',\n 'correlatas',\n 'pintaremo',\n 'embolaveis',\n 'concorrencia',\n 'negro',\n 'atribularieis',\n 'antepenultimos',\n 'cavadeiras',\n 'facilitaramos',\n 'oxidava',\n 'debrucava',\n 'surtiria',\n 'extasiara',\n 'degoleis',\n 'mastigacao',\n 'distamos',\n 'notabilizaveis',\n 'reprogramemo',\n 'extrapolar',\n 'enferrujastes',\n 'bauzinho',\n 'silenciariam',\n 'degeneracao',\n 'desengajemo',\n 'injusticadas',\n 'comensuremos',\n 'ironizo',\n 'tiniriam',\n 'odorificas',\n 'Bombaim',\n 'deitasse',\n 'copiei',\n 'fintaremo',\n 'revires',\n 'rarefizeras',\n 'odiaras',\n 'besuntarem',\n 'paquerasseis',\n 'nespereira',\n 'generalizarao',\n 'amedrontastes',\n 'seduzida',\n 'denotem',\n 'relatorio',\n 'impactais',\n 'laicizavas',\n 'portemo',\n 'contrastou',\n 'rebolaramos',\n 'confundissemos',\n 'intumescessem',\n 'inaugural',\n 'tapavamos',\n 'encrenca',\n 'carramelizarei',\n 'rende',\n 'ignota',\n 'resignardes',\n 'repartira',\n 'exterminaria',\n 'carola',\n 'retratavamos',\n 'chapinhas',\n 'descriminaremo',\n 'acinzentares',\n 'imperdiveis',\n 'privilegiasseis',\n 'disponibilizaria',\n 'calejasse',\n 'Goiania',\n 'prefacio',\n 'habilidades',\n 'circunvalo',\n 'arrobaramos',\n 'rasurou',\n 'declinemos',\n 'imunizamos',\n 'incoais',\n 'fascinaras',\n 'converteres',\n 'escarrarem',\n 'druida',\n 'doeremos',\n 'abarcaramos',\n 'amostramo',\n 'rondasseis',\n 'semi',\n 'inauguraste',\n 'descontavas',\n 'espichavas',\n 'arrasamos',\n 'vitimarao',\n 'fraturarei',\n 'despedacastes',\n 'rebaixavam',\n 'recompensais',\n 'resistem',\n 'totais',\n 'revoltamos',\n 'comecadas',\n 'despercebidos',\n 'amortalhardes',\n 'saboreamos',\n 'espetas',\n 'atravancaras',\n 'cabeleireiro',\n 'atingistes',\n 'agitavas',\n 'permutar',\n 'aguentando',\n 'espumejavamos',\n 'cabiam',\n 'bobeava',\n 'tricotavas',\n 'abastecerdes',\n 'pulveriza',\n 'adensaremo',\n 'bombearmos',\n 'peitaria',\n 'conquistara',\n 'refluissem',\n 'desapertarias',\n 'adoeceras',\n 'florirdes',\n 'testemunhasse',\n 'preconizasse',\n 'inexato',\n 'escorregaria',\n 'firma',\n 'chasqueando',\n 'divertirao',\n 'entusiasmariam',\n 'conglomeraria',\n 'rotulareis',\n 'borrachas',\n 'inflacionavam',\n 'preguicemos',\n 'restituem',\n 'apelidarao',\n 'consagrei',\n 'embolar',\n 'espavoririam',\n 'enterrai',\n 'rarefizessemos',\n 'emancipemos',\n 'vibrei',\n 'reclamarieis',\n 'reapareci',\n 'particularizadas',\n 'prontificar',\n 'memorizamos',\n 'incrementando',\n 'comentarei',\n 'Altair',\n 'gerenciaremos',\n 'enxotavas',\n 'aticassem',\n 'ultimamos',\n 'benevolencia',\n 'devotarem',\n 'mensuravas',\n 'excretamos',\n 'cavias',\n 'recapturava',\n 'deslanchara',\n 'defraudaste',\n 'esfolo',\n 'arrecadadas',\n 'grudado',\n 'debandeis',\n 'afiancariam',\n 'alcovas',\n 'trouxesseis',\n 'defensaveis',\n 'forniquei',\n 'apascentariam',\n 'entraria',\n 'libertadoras',\n 'gigantona',\n 'perdurais',\n 'defasado',\n 'apresastes',\n 'vitalizai',\n 'obstinemos',\n 'desapontares',\n 'dissertais',\n 'inflava',\n 'vertieis',\n 'nodosos',\n 'enviaremos',\n 'tonificadores',\n 'esfomeariamos',\n 'retroagiriam',\n 'desestimulais',\n 'contemporizarao',\n 'esporeavamos',\n 'individuada',\n 'blasfemias',\n 'casulo',\n 'estorvam',\n 'mobilies',\n 'inscrevemo',\n 'acompanharieis',\n 'peidasses',\n 'desembainhareis',\n 'entretais',\n 'devotaria',\n 'claudicardes',\n 'sacudida',\n 'marinheira',\n 'pousastes',\n 'derrotassemos',\n 'atavio',\n 'combateriamos',\n 'serrilha',\n 'prensais',\n 'indexemos',\n 'cravasseis',\n 'repassavas',\n 'amansaras',\n 'subornasseis',\n 'coexistisses',\n 'jubilei',\n 'retribuiremo',\n 'distinguivel',\n 'circulos',\n 'embacamo',\n 'convergirias',\n 'circulatorios',\n 'Ptolomeu',\n 'cambaleamos',\n 'trombeteaveis',\n 'avantajam',\n 'arrasarieis',\n 'revivescermo',\n 'desdobrava',\n 'subentendessemos',\n 'rabiscardes',\n 'inspiremo',\n 'estilizam',\n 'descruzasseis',\n 'suporemo',\n 'piso',\n 'galvanizavas',\n 'acuar',\n 'orquestrasses',\n 'distendesse',\n 'desempenam',\n 'afivelasse',\n 'estourarias',\n 'figurarem',\n 'medicarmo',\n 'marchariam',\n 'pontuando',\n 'dueleis',\n 'comediria',\n 'degolavas',\n 'promanariam',\n 'graduassem',\n 'baseariamos',\n 'castraram',\n 'combateremo',\n 'serpeei',\n 'destemidas',\n 'academicizamo',\n 'remediares',\n 'atrofiassem',\n 'acionaram',\n 'dissimulai',\n 'burilaste',\n 'preconizavas',\n 'contendermo',\n 'transplantacoes',\n 'ambulancia',\n 'degolarem',\n 'amamentardes',\n 'academicizavas',\n 'aguerriramos',\n 'ofuscariamos',\n 'romantizariam',\n 'alcadas',\n 'dissociei',\n 'entupirias',\n 'predominaria',\n 'ensanguentada',\n 'tresleriam',\n 'arroxeamo',\n 'comportem',\n 'enraiveceu',\n 'estorna',\n 'alargavas',\n 'renomeemo',\n 'propalamo',\n 'prejudicassem',\n 'amarelemos',\n 'laboravas',\n 'indecente',\n 'esbarrado',\n 'chuviscais',\n 'combustiveis',\n 'arranhasseis',\n 'percebido',\n 'escorregadica',\n 'lincharamos',\n 'macroeconomica',\n 'focalizo',\n 'enforcastes',\n 'paginarieis',\n 'naufragavas',\n 'rebelando',\n 'fucariamos',\n 'cerraram',\n 'cinzelavamos',\n 'solidificaremo',\n 'reconstruirao',\n 'ondas',\n 'posporiamos',\n 'raptaremo',\n 'deflagrara',\n 'ziguezagueemo',\n 'checaremos',\n 'agigantastes',\n 'aquiesces',\n 'arremessarao',\n 'televisionou',\n 'abandonaveis',\n 'neutron',\n 'insulassem',\n 'maciota',\n 'adule',\n 'promulgam',\n 'executardes',\n 'imediatos',\n 'embravecemos',\n 'cronometrareis',\n 'abstrairem',\n 'raciocinios',\n 'entreveriamos',\n 'encalhando',\n 'avistaras',\n 'convocarem',\n 'rebolou',\n 'viis',\n 'entusiasmada',\n 'tornearam',\n 'adocavamos',\n 'entrechocar',\n 'desvalorizado',\n 'amigai',\n 'abracando',\n 'consultasse',\n 'assinalastes',\n 'algemarmo',\n 'polvilhamo',\n 'particionara',\n 'ladrassem',\n 'aligeirarieis',\n 'alastradas',\n 'confeccionaria',\n 'homenageio',\n 'normalizais',\n 'fraquejamos',\n 'autonomearemo',\n 'reclinarao',\n 'resumiramos',\n 'difundemo',\n 'sossobraramos',\n 'rudimento',\n 'sepultasse',\n 'pregueamo',\n 'creu',\n 'acaloraste',\n 'serie',\n 'poentes',\n 'hipnotizadoras',\n 'finalizastes',\n 'credenciemos',\n 'amanteigam',\n 'fogosas',\n 'abobadeis',\n 'facilissimas',\n 'sacrificios',\n 'joeiraramos',\n 'predomineis',\n 'pestanejasseis',\n 'numericas',\n 'consumei',\n 'enjaulares',\n 'posicionasse',\n 'narcotizaveis',\n 'desprotegesse',\n 'restringiam',\n 'excederiamos',\n 'malavirias',\n 'trefilaremo',\n 'abobadai',\n 'estrepasseis',\n 'visitariamos',\n 'estatizeis',\n 'acordastes',\n 'cabeceie',\n 'subsistissemos',\n 'carbonatos',\n 'esbofetearas',\n 'aterraras',\n 'declinaveis',\n 'marejasses',\n 'desengajareis',\n 'tataranetos',\n 'laureardes',\n 'credenciam',\n 'parabolica',\n 'convertera',\n 'gracejavas',\n 'destinos',\n 'deitaveis',\n 'estracalhara',\n 'deliciasse',\n 'esfriamos',\n 'enguicarmos',\n 'assombre',\n 'perscrutamos',\n 'aformoseeis',\n 'traseiros',\n 'calemo',\n 'ameacara',\n 'acariciaremos',\n 'bombearao',\n 'homerico',\n 'presidencialistas',\n 'circundadas',\n 'tontas',\n 'porfiavas',\n 'apostilamos',\n 'arvorassem',\n 'dualiza',\n 'rememorados',\n 'mapeareis',\n 'repreendessem',\n 'assevere',\n 'relemos',\n 'aerodinamicos',\n 'zangaras',\n 'encapuzassemos',\n 'abdiqueis',\n 'responsabilizassemos',\n 'corroessem',\n 'destacarem',\n 'murmuracao',\n 'arrolaremos',\n 'antepunheis',\n 'renovarieis',\n 'brilhantismo',\n 'mergulhadores',\n 'setorizaram',\n 'emprestaria',\n 'espirareis',\n 'descerrara',\n 'enredadas',\n 'resolverias',\n 'golgota',\n 'aburguesarem',\n 'desvalorizemo',\n 'anistie',\n 'inicializarmo',\n 'arrebentamo',\n 'obstinarei',\n 'arpoara',\n 'investiram',\n 'tossiriamos',\n 'haras',\n 'refogava',\n 'negligenciei',\n 'parcelava',\n 'encarnarao',\n 'embrenharia',\n 'empequenecas',\n 'desenfaixamo',\n 'aguardam',\n 'girem',\n 'apresardes',\n 'desorientadamente',\n 'decapitaramos',\n 'televisor',\n 'reinstalamos',\n 'barre',\n 'antepondes',\n 'introduzias',\n 'provisionaremo',\n 'encasularam',\n 'mercantilizares',\n 'espraiei',\n 'retumbarias',\n 'ancorarieis',\n 'acarinhem',\n 'errarei',\n 'reengajaras',\n 'desapropriaria',\n 'requentares',\n 'decorreramos',\n 'valencias',\n 'grifarieis',\n 'sedimentacao',\n 'sufocacao',\n 'municiarem',\n 'revisareis',\n 'destravasseis',\n 'latifundiarias',\n 'carbura',\n 'fitamos',\n 'rascunham',\n 'burlavamos',\n 'alquebrada',\n 'desenhareis',\n 'desperdicarem',\n 'transcorressemos',\n 'comediografo',\n 'adiantassemos',\n 'brecassemos',\n 'refinanciem',\n 'rendieis',\n 'caloteariamos',\n 'orces',\n 'senda',\n 'combaterei',\n 'ajoelharei',\n 'crista',\n 'supervisionariam',\n 'admira',\n 'pastoreassemos',\n 'necessitava',\n 'mastigaste',\n 'equitativo',\n 'cheirarias',\n 'descambavamos',\n 'leme',\n 'transcendencias',\n 'prosternaria',\n 'propoes',\n 'inflamaremo',\n 'descartai',\n 'selecionamo',\n 'reengajariam',\n 'suturavamos',\n 'comutaras',\n 'espaireceres',\n 'sulcaveis',\n 'assinam',\n 'grampeareis',\n 'intercalarao',\n 'singularizareis',\n 'arrependem',\n 'aquilatemo',\n 'sonsos',\n 'laminasses',\n 'propositados',\n 'traiam',\n 'matutaras',\n 'renderdes',\n 'contraporemos',\n 'calibrem',\n 'repouses',\n 'desmorono',\n 'inexpugnavel',\n 'capitalizaria',\n 'reprisemo',\n 'empequeneci',\n 'senda',\n 'atolarem',\n 'cogelaste',\n 'desastrada',\n 'afro',\n 'tirares',\n 'drenarieis',\n 'examinaremo',\n 'espraiar',\n 'varrermos',\n 'afogarem',\n 'desbarates',\n 'arruineis',\n 'estropiavam',\n 'antonimos',\n 'subalterna',\n 'ofuscaram',\n 'alcancar',\n 'particionar',\n 'configurada',\n 'chilreastes',\n 'astrologias',\n 'desforraste',\n 'propugnai',\n 'encapsularmo',\n 'padronizastes',\n 'nicho',\n 'automatizaveis',\n 'desculpastes',\n 'dinamizareis',\n 'depravamo',\n 'soergueste',\n 'desprezavas',\n 'opinarmos',\n 'dimensionastes',\n 'espantei',\n 'desmontaria',\n 'cacem',\n 'sistematizada',\n 'abdiqueis',\n 'esbarrarmo',\n 'entretieis',\n 'esconjurai',\n 'impetrariamos',\n 'ordenhardes',\n 'expectorara',\n 'escoltamos',\n 'corridos',\n 'aureolaremo',\n 'merendamo',\n 'exumavas',\n 'ardente',\n 'reverberardes',\n 'desinfetassemos',\n 'extravasariam',\n 'esparzimo',\n 'manipulacoes',\n 'lastimavamos',\n 'erigirieis',\n 'residamos',\n 'refutaremos',\n 'inquietarem',\n 'superestimarias',\n 'computadorizado',\n 'aburguesarias',\n 'arrolho',\n 'produziremo',\n 'dirigissem',\n 'certificara',\n 'vasculhardes',\n 'descaradas',\n 'tolerado',\n 'reaparelhamo',\n 'serenais',\n 'distanciara',\n 'incrementaste',\n 'enquadrara',\n 'mexesses',\n 'exsudamos',\n 'desentupiste',\n 'sorvessemos',\n 'desfalecei',\n 'teorizarieis',\n 'cinismos',\n 'diluissem',\n 'bordejassemos',\n 'provincianismo',\n 'aplaques',\n 'superficie',\n 'pigarreie',\n 'amarelaria',\n 'agregara',\n 'descriminalizando',\n 'desejosa',\n 'sobreporem',\n 'limpastes',\n 'inexistia',\n 'proibam',\n 'suturemos',\n 'orcares',\n 'abracavamos',\n 'empequeneceram',\n 'gorjearemo',\n 'acucarado',\n 'esquematicos',\n 'estercaremo',\n 'estagnes',\n 'exportarao',\n 'exponencialmente',\n 'esterilizasses',\n 'acantonariam',\n 'reapareceramos',\n 'molhei',\n 'alternativa',\n 'erigisseis',\n 'contaminemos',\n 'cea',\n 'apostrofariamos',\n 'arbitravam',\n 'sucateiem',\n 'licitai',\n 'autofinanciasseis',\n 'colarmos',\n 'tripulamo',\n 'reunifiquem',\n 'metodologicas',\n 'expatriasse',\n 'desempenares',\n 'espargiamos',\n 'oi',\n 'precavermo',\n 'laicizaram',\n 'embasai',\n 'reflitam',\n 'bamboleio',\n 'perenizareis',\n 'zarpavas',\n 'tragais',\n 'cobrisses',\n 'aparecas',\n 'vassourando',\n 'desapontamo',\n 'enumeravamos',\n 'compatibilizaramos',\n 'murcheis',\n 'sacramentasse',\n 'viveu',\n 'oscileis',\n 'instintivos',\n 'cumpre',\n 'interferireis',\n 'degustavam',\n 'maldizer',\n 'agonizavamos',\n 'reprocessares',\n 'obsediastes',\n 'equivocamo',\n 'abrandaste',\n 'portentosos',\n 'requeimado',\n 'constituis',\n 'livre',\n 'ericariam',\n 'tocaiavas',\n 'procediamos',\n 'reforcem',\n 'adocariamos',\n 'colaremo',\n 'decolas',\n 'lancarei',\n 'insinuastes',\n 'receiem',\n 'ironica',\n 'abreviado',\n 'interiorano',\n 'encamparmos',\n 'reformatarmo',\n 'renascamos',\n 'encarno',\n 'dependesseis',\n 'vulgarizem',\n 'faturassem',\n 'idilica',\n 'roteassem',\n 'alimentavamos',\n 'desmesuradamente',\n 'escanhoariam',\n 'enferrujamos',\n 'caracterizo',\n 'atracasses',\n 'lavrem',\n 'marchado',\n 'escreveriam',\n 'agradecerieis',\n 'desenfeiticarias',\n 'joeiremo',\n 'descansavamos',\n 'castores',\n 'provisionava',\n 'despacharemo',\n 'ofertais',\n 'deprimiamos',\n 'pendurada',\n 'esvaecessem',\n 'pusermos',\n 'mijasse',\n 'fermentaste',\n 'parodiamo',\n 'feriu',\n 'completassemos',\n 'espoliaveis',\n 'tintureiro',\n 'recompensassem',\n 'charlatanea',\n 'ponderastes',\n 'documentou',\n 'escamotearmo',\n 'empatados',\n 'faina',\n 'prefixariam',\n 'arquivemos',\n 'inspetora',\n 'premiariam',\n 'telegrafaremo',\n 'aspergisses',\n 'degradem',\n 'chatearem',\n 'subordinam',\n 'estremeces',\n 'icarao',\n 'arriamo',\n 'constatarieis',\n 'apiedassem',\n 'vigiasseis']"
     },
     "execution_count": 17,
     "metadata": {},
     "output_type": "execute_result"
    }
   ],
   "source": [
    "lista_ganhou"
   ],
   "metadata": {
    "collapsed": false,
    "pycharm": {
     "name": "#%%\n"
    }
   }
  },
  {
   "cell_type": "markdown",
   "source": [
    "Em seguida, vamos selecionar algumas palavras que o agente não conseguiu acertar para analisarmos a fundo o que aconteceu."
   ],
   "metadata": {
    "collapsed": false,
    "pycharm": {
     "name": "#%% md\n"
    }
   }
  },
  {
   "cell_type": "code",
   "execution_count": 22,
   "outputs": [
    {
     "data": {
      "text/plain": "'secunde'"
     },
     "execution_count": 22,
     "metadata": {},
     "output_type": "execute_result"
    }
   ],
   "source": [
    "import random\n",
    "\n",
    "palavra = random.choice(lista_perdeu)\n",
    "palavra"
   ],
   "metadata": {
    "collapsed": false,
    "pycharm": {
     "name": "#%%\n"
    }
   }
  },
  {
   "cell_type": "code",
   "execution_count": 25,
   "outputs": [],
   "source": [
    "jogo = JogoDeForca(palavra)\n",
    "jogo.novo_jogo()\n",
    "tamanho = len(jogo.palavra)\n",
    "agent = Agent([], [], tamanho)"
   ],
   "metadata": {
    "collapsed": false,
    "pycharm": {
     "name": "#%%\n"
    }
   }
  },
  {
   "cell_type": "code",
   "execution_count": 26,
   "outputs": [
    {
     "name": "stdout",
     "output_type": "stream",
     "text": [
      "Entropia de cada letra: {'a': 0.4257100959909657, 'e': 0.3524206061127924, 'i': 0.30359718848007194, 'r': 0.3027917175226779, 'o': 0.2998714502606315, 's': 0.2869887670504709, 'm': 0.2216708823037093, 't': 0.1893493027378077, 'c': 0.18276881353044486, 'u': 0.176170050032678, 'n': 0.1744380521345257, 'd': 0.17274193109877356, 'l': 0.16122826454211278, 'p': 0.12393832391783374, 'v': 0.11648054637292216, 'g': 0.10438453656081646, 'b': 0.09644483236522644, 'f': 0.08815338790552325, 'h': 0.05658086621796429, 'j': 0.04279040084916106, 'x': 0.03682458221321436, 'z': 0.035422688273497156, 'q': 0.023659788567770287, 'A': 0.0027737085869637755, 'E': 0.0020164741543145922, 'B': 0.0014610045085129801, 'S': 0.0012141406345381207, 'R': 0.00104578109985984, 'C': 0.000873753876016159, 'G': 0.0007861211535584729, 'L': 0.0007861211535584729, 'D': 0.0006069038118280573, 'T': 0.0006069038118280573, 'H': 0.0005148967291052727, 'M': 0.0005148967291052727, 'N': 0.00042087002643022785, 'J': 0.0003243089931522722, 'k': 0.0003243089931522722, 'P': 0.0003243089931522722, 'U': 0.0003243089931522722, 'F': 0.00022433973804060963, 'y': 0.00022433973804060963, 'V': 0.00022433973804060963, 'I': 0.00011912223143305266, 'O': 0.00011912223143305266, 'Q': 0.00011912223143305266}\n",
      "O agente escolheu a letra a. \n",
      "\n",
      "Palara: \n",
      " ['_', '_', '_', '_', '_', '_', '_']\n",
      "Vidas restantes: 4. \n",
      "\n",
      "Entropia de cada letra: {'e': 0.44975774507588856, 'o': 0.3705763541498171, 'i': 0.3459655040605133, 's': 0.3001480619558303, 'r': 0.28818636876290404, 'u': 0.2334349139671914, 'm': 0.23091897183012705, 't': 0.19827025076410537, 'n': 0.1926379801912965, 'c': 0.17855613929786796, 'd': 0.17791169718495967, 'l': 0.15285737123155702, 'p': 0.13632215166867834, 'g': 0.09768217828029761, 'v': 0.09730554786111764, 'b': 0.0952862935303832, 'f': 0.09452442172827302, 'h': 0.05312994421759154, 'x': 0.046882648472213836, 'q': 0.03881969052120214, 'z': 0.036376876148249145, 'j': 0.03460335207006571, 'E': 0.0033052318068074005, 'A': 0.0027163120525285343, 'B': 0.001792644469231129, 'T': 0.0014701788789262102, 'D': 0.001137504422667829, 'L': 0.001137504422667829, 'R': 0.001137504422667829, 'S': 0.0007911008657940766, 'y': 0.0007911008657940766, 'U': 0.0007911008657940766, 'F': 0.00042355614606252406, 'H': 0.00042355614606252406, 'J': 0.00042355614606252406, 'N': 0.00042355614606252406, 'Q': 0.00042355614606252406, 'k': 0.00042355614606252406}\n",
      "O agente escolheu a letra e. \n",
      "\n",
      "Palara: \n",
      " ['_', 'e', '_', '_', '_', '_', 'e']\n",
      "Vidas restantes: 4. \n",
      "\n",
      "Entropia de cada letra: {'e': 0.5294549023653466, 'r': 0.3545589098218833, 's': 0.26965156695362635, 'd': 0.25704049506685284, 't': 0.24383786447428146, 'i': 0.21730362668504813, 'n': 0.181837112573, 'p': 0.16003236236827123, 'c': 0.15775490253998548, 'u': 0.1531424858430871, 'o': 0.1531424858430871, 'l': 0.1313500573912134, 'm': 0.12366458064488844, 'g': 0.11304001053841435, 'v': 0.09907256745055368, 'f': 0.09617649146209295, 'b': 0.08420280622629334, 'h': 0.05437850017371335, 'q': 0.03523937809679381, 'j': 0.031067724553566437, 'z': 0.022224324451064086, 'x': 0.017473099510138097, 'S': 0.006848905935002608}\n",
      "O agente escolheu a letra r. \n",
      "\n",
      "Palara: \n",
      " ['_', 'e', '_', '_', '_', '_', 'e']\n",
      "Vidas restantes: 3. \n",
      "\n",
      "Entropia de cada letra: {'e': 0.5302308008233909, 'd': 0.35288160854920564, 's': 0.34986150034856023, 't': 0.2719539230041146, 'i': 0.24152107823076976, 'n': 0.1969098753005646, 'c': 0.17460693306939978, 'l': 0.17460693306939978, 'm': 0.143969531057162, 'u': 0.1306720001126362, 'p': 0.10933837698331408, 'v': 0.0939979744374571, 'f': 0.0939979744374571, 'g': 0.0939979744374571, 'b': 0.08592204775854617, 'h': 0.08592204775854617, 'o': 0.08592204775854617, 'z': 0.03961643428199233, 'q': 0.03961643428199233, 'j': 0.03961643428199233, 'x': 0.02844915305461912}\n",
      "O agente escolheu a letra d. \n",
      "\n",
      "Palara: \n",
      " ['_', 'e', '_', '_', '_', 'd', 'e']\n",
      "Vidas restantes: 3. \n",
      "\n",
      "Entropia de cada letra: {'e': 0.5307224325585204, 'd': 0.5021663297777565, 'n': 0.3522138890491458, 's': 0.2525257094285661, 'p': 0.2091579725132743, 'u': 0.2091579725132743, 'f': 0.1580088864603148, 'c': 0.1580088864603148, 'o': 0.09487745910317327, 'm': 0.09487745910317327, 't': 0.09487745910317327}\n",
      "O agente escolheu a letra n. \n",
      "\n",
      "Palara: \n",
      " ['_', 'e', '_', '_', 'n', 'd', 'e']\n",
      "Vidas restantes: 3. \n",
      "\n",
      "Entropia de cada letra: {'e': 0.5305095811322292, 'd': 0.4929498399741424, 'n': 0.40105070315108626, 'f': 0.2091579725132743, 'p': 0.2091579725132743, 'c': 0.2091579725132743, 'u': 0.2091579725132743, 'o': 0.12838851006616095, 't': 0.12838851006616095, 's': 0.12838851006616095}\n",
      "O agente escolheu a letra f. \n",
      "\n",
      "Palara: \n",
      " ['_', 'e', '_', '_', 'n', 'd', 'e']\n",
      "Vidas restantes: 2. \n",
      "\n",
      "Entropia de cada letra: {'e': 0.5305095811322292, 'd': 0.5, 'n': 0.40105070315108626, 'p': 0.2719539230041146, 'o': 0.17169124721634302, 't': 0.17169124721634302, 's': 0.17169124721634302, 'c': 0.17169124721634302, 'u': 0.17169124721634302}\n",
      "O agente escolheu a letra p. \n",
      "\n",
      "Palara: \n",
      " ['_', 'e', '_', '_', 'n', 'd', 'e']\n",
      "Vidas restantes: 1. \n",
      "\n",
      "Entropia de cada letra: {'e': 0.5305095811322292, 'd': 0.4762269474292389, 'n': 0.40105070315108626, 't': 0.2719539230041146, 's': 0.2719539230041146, 'c': 0.2719539230041146, 'u': 0.2719539230041146}\n",
      "O agente escolheu a letra t. \n",
      "\n",
      "Fim de jogo!\n",
      "Palara: \n",
      " ['_', 'e', '_', '_', 'n', 'd', 'e']\n",
      "Vidas restantes: 0. \n",
      "\n"
     ]
    }
   ],
   "source": [
    "while jogo.vidas > 0:\n",
    "    letra = agent.escolher_letra_entropia()\n",
    "    print(f'O agente escolheu a letra {letra}. \\n')\n",
    "\n",
    "    time.sleep(5)\n",
    "\n",
    "    feedback = jogo.tentar_letra(letra)\n",
    "    agent.receber_feedback(letra, feedback)\n",
    "\n",
    "    print(f'Palara: \\n {agent.palavra}')\n",
    "\n",
    "    if agent.palavra_completa() == jogo.palavra:\n",
    "        print('O agente acertou a palavra!')\n",
    "        break\n",
    "\n",
    "    print(f'Vidas restantes: {jogo.vidas}. \\n')"
   ],
   "metadata": {
    "collapsed": false,
    "pycharm": {
     "name": "#%%\n"
    }
   }
  },
  {
   "cell_type": "markdown",
   "source": [
    "A palavra selecionada, que não foi adivinhada pelo agente, foi 'secunde'. Como é possível avaliar no loop de jogo acima, o agente primeiramente selecionou a letra 'a', que é a mais frequente frente o filtro realizado com o tamanho da palavra. Em seguida, a letra de maior entropia passou a ser 'e', que realmente está presente na palavra. Essas duas primeiras iterações já demonstram o erro gerado. Como o agente seleciona a letra de maior frequência na lista de palavras e, portanto, de maior entropia, ele seleciona a letra 'a', que não está presente, para então selecionar a letra 'e', que de fato está presente. Esse tipo de jogador funciona de maneira ideal quando a palavra selecionada possui letras frequentemente utilizadas juntas no alfabeto. Assim, o agente consegue selecionar a letra correta em poucas iterações.\n",
    "\n",
    "Nos casos em que o agente perde, as letras presentes na palavra possuem uma entropia baixa, ou seja, geram uma incerteza menor no sistema. Para o jogador de forca, isso não é algo bom, pois determina que, ao selecionar a letra, haverão poucas opções de palavras que a apresentam. Assim, o agente irá selecionar a letra de maior frequência, que não necessariamente está presente na palavra, e irá perder o jogo.\n",
    "\n",
    "Note que, caso tenha rodado novamente essa sessão do notebook, a palavra selecionada pode não ser a mesma devido ao fator de aleatoriedade, mas o mesmo princípio se aplica.\n",
    "\n",
    "Para visualizarmos melhor isso, vamos realizar uma análise visual da frequência de cada letra nas palavras que o agente perdeu e nas palavras que o agente ganhou. Para isso, elaboraremos gráficos com a frequência e a probabilidade de cada letra de forma separada e conjunta."
   ],
   "metadata": {
    "collapsed": false,
    "pycharm": {
     "name": "#%% md\n"
    }
   }
  },
  {
   "cell_type": "code",
   "execution_count": 37,
   "outputs": [],
   "source": [
    "from collections import Counter\n",
    "\n",
    "def calcular_frequencia(lista):\n",
    "    letras = list()\n",
    "    for palavra in lista:\n",
    "        for letra in palavra:\n",
    "            letras.append(letra)\n",
    "    return Counter(letras)\n",
    "\n",
    "frequencia_perdeu = calcular_frequencia(lista_perdeu)\n",
    "frequencia_ganhou = calcular_frequencia(lista_ganhou)\n",
    "\n",
    "frequencia_perdeu = {k: v for k, v in sorted(frequencia_perdeu.items(), key=lambda item: item[1], reverse=True)}\n",
    "frequencia_ganhou = {k: v for k, v in sorted(frequencia_ganhou.items(), key=lambda item: item[1], reverse=True)}"
   ],
   "metadata": {
    "collapsed": false,
    "pycharm": {
     "name": "#%%\n"
    }
   }
  },
  {
   "cell_type": "code",
   "execution_count": 38,
   "outputs": [
    {
     "data": {
      "text/plain": "{'a': 1422,\n 'e': 1148,\n 's': 988,\n 'r': 937,\n 'i': 839,\n 'o': 684,\n 'm': 524,\n 'n': 416,\n 't': 406,\n 'c': 391,\n 'd': 309,\n 'u': 235,\n 'l': 226,\n 'p': 205,\n 'v': 172,\n 'b': 122,\n 'g': 113,\n 'f': 97,\n 'z': 76,\n 'h': 62,\n 'j': 31,\n 'x': 31,\n 'q': 28,\n 'B': 1,\n 'G': 1,\n 'A': 1,\n 'P': 1}"
     },
     "execution_count": 38,
     "metadata": {},
     "output_type": "execute_result"
    }
   ],
   "source": [
    "frequencia_ganhou"
   ],
   "metadata": {
    "collapsed": false,
    "pycharm": {
     "name": "#%%\n"
    }
   }
  },
  {
   "cell_type": "code",
   "execution_count": 39,
   "outputs": [
    {
     "data": {
      "text/plain": "{'a': 69,\n 'o': 39,\n 'e': 39,\n 's': 33,\n 'u': 31,\n 'i': 26,\n 'r': 26,\n 'm': 23,\n 'p': 20,\n 'c': 19,\n 't': 17,\n 'd': 17,\n 'g': 14,\n 'n': 13,\n 'l': 12,\n 'v': 8,\n 'f': 7,\n 'b': 6,\n 'h': 6,\n 'z': 5,\n 'q': 5,\n 'j': 4,\n 'x': 2}"
     },
     "execution_count": 39,
     "metadata": {},
     "output_type": "execute_result"
    }
   ],
   "source": [
    "frequencia_perdeu"
   ],
   "metadata": {
    "collapsed": false,
    "pycharm": {
     "name": "#%%\n"
    }
   }
  },
  {
   "cell_type": "code",
   "execution_count": 40,
   "outputs": [
    {
     "data": {
      "text/plain": "<Figure size 2000x1000 with 1 Axes>",
      "image/png": "[encoded data removed]"
     },
     "metadata": {},
     "output_type": "display_data"
    }
   ],
   "source": [
    "import matplotlib.pyplot as plt\n",
    "import seaborn as sns\n",
    "\n",
    "plt.figure(figsize=(20, 10))\n",
    "sns.barplot(x=list(frequencia_ganhou.keys()), y=list(frequencia_ganhou.values()))\n",
    "plt.title('Frequência de letras nas palavras que o agente ganhou')\n",
    "plt.show()"
   ],
   "metadata": {
    "collapsed": false,
    "pycharm": {
     "name": "#%%\n"
    }
   }
  },
  {
   "cell_type": "code",
   "execution_count": 41,
   "outputs": [
    {
     "data": {
      "text/plain": "<Figure size 2000x1000 with 1 Axes>",
      "image/png": "[encoded data removed]"
     },
     "metadata": {},
     "output_type": "display_data"
    }
   ],
   "source": [
    "plt.figure(figsize=(20, 10))\n",
    "sns.barplot(x=list(frequencia_perdeu.keys()), y=list(frequencia_perdeu.values()))\n",
    "plt.title('Frequência de letras nas palavras que o agente perdeu')\n",
    "plt.show()"
   ],
   "metadata": {
    "collapsed": false,
    "pycharm": {
     "name": "#%%\n"
    }
   }
  },
  {
   "cell_type": "code",
   "execution_count": 42,
   "outputs": [],
   "source": [
    "probabilidades_perdeu = dict()\n",
    "probabilidades_ganhou = dict()\n",
    "\n",
    "for letra in frequencia_perdeu.keys():\n",
    "    probabilidades_perdeu[letra] = frequencia_perdeu[letra]/sum(frequencia_perdeu.values())\n",
    "\n",
    "for letra in frequencia_ganhou.keys():\n",
    "    probabilidades_ganhou[letra] = frequencia_ganhou[letra]/sum(frequencia_ganhou.values())"
   ],
   "metadata": {
    "collapsed": false,
    "pycharm": {
     "name": "#%%\n"
    }
   }
  },
  {
   "cell_type": "code",
   "execution_count": 43,
   "outputs": [
    {
     "data": {
      "text/plain": "<Figure size 2000x1000 with 1 Axes>",
      "image/png": "[encoded data removed]"
     },
     "metadata": {},
     "output_type": "display_data"
    }
   ],
   "source": [
    "plt.figure(figsize=(20, 10))\n",
    "sns.barplot(x=list(probabilidades_ganhou.keys()), y=list(probabilidades_ganhou.values()))\n",
    "plt.title('Probabilidade de letras nas palavras que o agente ganhou')\n",
    "plt.show()"
   ],
   "metadata": {
    "collapsed": false,
    "pycharm": {
     "name": "#%%\n"
    }
   }
  },
  {
   "cell_type": "code",
   "execution_count": 44,
   "outputs": [
    {
     "data": {
      "text/plain": "<Figure size 2000x1000 with 1 Axes>",
      "image/png": "[encoded data removed]"
     },
     "metadata": {},
     "output_type": "display_data"
    }
   ],
   "source": [
    "plt.figure(figsize=(20, 10))\n",
    "sns.barplot(x=list(probabilidades_perdeu.keys()), y=list(probabilidades_perdeu.values()))\n",
    "plt.title('Probabilidade de letras nas palavras que o agente perdeu')\n",
    "plt.show()"
   ],
   "metadata": {
    "collapsed": false,
    "pycharm": {
     "name": "#%%\n"
    }
   }
  },
  {
   "cell_type": "code",
   "execution_count": 46,
   "outputs": [],
   "source": [
    "import pandas as pd\n",
    "\n",
    "df_ganhou = pd.DataFrame({'letra': list(probabilidades_ganhou.keys()), 'probabilidade': list(probabilidades_ganhou.values()), 'resultado': 'ganhou'})\n",
    "df_perdeu = pd.DataFrame({'letra': list(probabilidades_perdeu.keys()), 'probabilidade': list(probabilidades_perdeu.values()), 'resultado': 'perdeu'})\n",
    "df = pd.concat([df_ganhou, df_perdeu])"
   ],
   "metadata": {
    "collapsed": false,
    "pycharm": {
     "name": "#%%\n"
    }
   }
  },
  {
   "cell_type": "code",
   "execution_count": 47,
   "outputs": [
    {
     "data": {
      "text/plain": "<Figure size 2000x1000 with 1 Axes>",
      "image/png": "[encoded data removed]"
     },
     "metadata": {},
     "output_type": "display_data"
    }
   ],
   "source": [
    "plt.figure(figsize=(20, 10))\n",
    "sns.barplot(x='letra', y='probabilidade', hue='resultado', data=df)\n",
    "plt.title('Probabilidade de letras nas palavras que o agente ganhou e perdeu')\n",
    "plt.show()"
   ],
   "metadata": {
    "collapsed": false,
    "pycharm": {
     "name": "#%%\n"
    }
   }
  },
  {
   "cell_type": "markdown",
   "source": [
    "Aqui, é possível analisar de forma clara a probabilidade (frequência) de cada letra em ambos os casos. Como é possível observar, apesar de em ambos os casos a letra 'a' ser a mais frequente, há diferenças claras em letras como 'u', 'p', 'o', 'g' e 'q' entre as palavras vencedoras e as perdedoras. Assim, o agente perdeu em palavras que possuíam uma frequência maior dessas letras frente às palavras que ganhou. Isso demonstra que o agente não consegue lidar bem com palavras que possuem letras com frequência baixa no alfabeto, pois ele irá selecionar a letra de maior frequência, que não necessariamente está presente na palavra."
   ],
   "metadata": {
    "collapsed": false,
    "pycharm": {
     "name": "#%% md\n"
    }
   }
  }
 ],
 "metadata": {
  "kernelspec": {
   "display_name": "Python 3",
   "language": "python",
   "name": "python3"
  },
  "language_info": {
   "codemirror_mode": {
    "name": "ipython",
    "version": 2
   },
   "file_extension": ".py",
   "mimetype": "text/x-python",
   "name": "python",
   "nbconvert_exporter": "python",
   "pygments_lexer": "ipython2",
   "version": "2.7.6"
  }
 },
 "nbformat": 4,
 "nbformat_minor": 0
}